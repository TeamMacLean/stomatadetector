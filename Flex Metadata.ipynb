{
 "cells": [
  {
   "cell_type": "code",
   "execution_count": 53,
   "metadata": {
    "collapsed": false
   },
   "outputs": [],
   "source": [
    "import xmltodict\n",
    "import tifffile as tf\n",
    "\n",
    "flex_file = '/Users/macleand/Desktop/stomata_detector/Test images and output/Ok/002002002/002002002.flex'\n",
    "\n",
    "def parse_flex_metadata(flex_filepath):\n",
    "    '''returns list of xmltodict objects of xml portion of a flex file. \n",
    "    Appends None if no xml found for a given image in the flex'''\n",
    "    with tf.TiffFile(flex_filepath) as flex:\n",
    "        xmls = []\n",
    "        for image in flex:\n",
    "            try:\n",
    "                xmls.append(xmltodict.parse(image.tags.get('flex_xml').value ))\n",
    "            except:\n",
    "                xmls.append(None)\n",
    "        return xmls\n",
    "\n",
    "a = parse_flex_metadata(flex_file)"
   ]
  },
  {
   "cell_type": "code",
   "execution_count": 61,
   "metadata": {
    "collapsed": false
   },
   "outputs": [
    {
     "name": "stdout",
     "output_type": "stream",
     "text": [
      "OrderedDict([(u'@Type', u'Image'), (u'@Name', u'Exp1Cam2'), (u'@Width', u'688'), (u'@Height', u'512'), (u'@BitsPerPixel', u'16'), (u'@CompressionType', u''), (u'@CompressionRate', u''), (u'@Factor', u'1.000000')])\n"
     ]
    }
   ],
   "source": [
    "metadata = a[0]\n",
    "print metadata['Root']['Arrays']['Array'][0]"
   ]
  },
  {
   "cell_type": "code",
   "execution_count": null,
   "metadata": {
    "collapsed": true
   },
   "outputs": [],
   "source": []
  }
 ],
 "metadata": {
  "kernelspec": {
   "display_name": "Python 2",
   "language": "python",
   "name": "python2"
  },
  "language_info": {
   "codemirror_mode": {
    "name": "ipython",
    "version": 2
   },
   "file_extension": ".py",
   "mimetype": "text/x-python",
   "name": "python",
   "nbconvert_exporter": "python",
   "pygments_lexer": "ipython2",
   "version": "2.7.11"
  }
 },
 "nbformat": 4,
 "nbformat_minor": 0
}
